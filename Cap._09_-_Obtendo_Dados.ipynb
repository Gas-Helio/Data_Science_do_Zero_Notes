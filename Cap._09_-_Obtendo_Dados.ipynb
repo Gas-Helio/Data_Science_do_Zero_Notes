{
 "cells": [
  {
   "cell_type": "markdown",
   "metadata": {},
   "source": [
    "# 9. Obtendo Dados\n",
    "\n",
    "### stdin e stdout\n",
    "\n",
    "* Se os scripts de Python são executados via linha de comando, é possível canalizar (pipe) os dados usando sys.stdin e sys.stdout.\n",
    "\n",
    "* Abaixo um script que lê linhas de um texto e devolve as que combinarem como uma expressão regular:"
   ]
  },
  {
   "cell_type": "markdown",
   "metadata": {},
   "source": [
    "~~~ Python\n",
    "# Salvo como egrep.py\n",
    "import sys, re\n",
    "\n",
    "# sys.argv é a lista dos argumentos da linha de comandos\n",
    "# sys.argv [0] é o nome do programa em si\n",
    "# sys.argv [1] será o regex especificado na linha de comandos\n",
    "regex = sys.argv[1]\n",
    "\n",
    "# para cada linha passada pelo script\n",
    "for line in sys.stdin:\n",
    "    # se combinar com o regex, escreva-o para o stdout\n",
    "    if re.search(regex, line):\n",
    "        sys.stdout.write(line)\n",
    "~~~"
   ]
  },
  {
   "cell_type": "markdown",
   "metadata": {},
   "source": [
    "* O próximo conta as linhas recebidas e exibe a contagem:"
   ]
  },
  {
   "cell_type": "markdown",
   "metadata": {},
   "source": [
    "~~~ Python\n",
    "# Salvo como line_count.py\n",
    "import sys\n",
    "\n",
    "count = 0\n",
    "for line in sys.stdin:\n",
    "    count += 1\n",
    "    \n",
    "# print vai para sys.stdout\n",
    "print(count)\n",
    "~~~"
   ]
  },
  {
   "cell_type": "markdown",
   "metadata": {},
   "source": [
    "* E poderia usá-los utilizando o seguinte comando:"
   ]
  },
  {
   "cell_type": "code",
   "execution_count": 5,
   "metadata": {},
   "outputs": [
    {
     "name": "stdout",
     "output_type": "stream",
     "text": [
      "3\n"
     ]
    }
   ],
   "source": [
    "cat Dados/File.txt | python Codigos/egrep.py \"[0-9]\" | python Codigos/line_count.py"
   ]
  },
  {
   "cell_type": "markdown",
   "metadata": {},
   "source": [
    "* O caractere | (pipe) significa \"use a saída do comando da esquerda como entrada do comando da direita\"\n",
    "* Permite a construção de pipelines elaborados de processamento de dados.\n",
    "\n",
    "* O script abaixo conta as palavras e exibe as mais comuns:"
   ]
  },
  {
   "cell_type": "markdown",
   "metadata": {},
   "source": [
    "~~~ Python\n",
    "# Salvo como most_commom_words.py\n",
    "import sys\n",
    "from collections import Counter\n",
    "\n",
    "# passa o número de palavras como primeiro argumento\n",
    "try:\n",
    "    num_words = int(sys.argv[1])\n",
    "except:\n",
    "    print ()\n",
    "    sys.exit(1) # código de saída não-zero indica erro\n",
    "    \n",
    "counter = Counter(word.lower() # palavras em minúsculas\n",
    "                  for line in sys.stdin #\n",
    "                  for word in line.strip().split() # se separam por espaços\n",
    "                  if word)\n",
    "\n",
    "# pula as 'palavras' vazias\n",
    "for word, count in counter.most_common(num_words):\n",
    "    sys.stdout.write(str(count))\"usage: most_common_words.py num_words\"\n",
    "    sys.stdout.write(\"\\t\")\n",
    "    sys.stdout.write(word)\n",
    "    sys.stdout.write(\"\\n\")\n",
    "    \n",
    "~~~\n",
    "\n",
    "* E finalmente pode ser chamado assim:"
   ]
  },
  {
   "cell_type": "code",
   "execution_count": 9,
   "metadata": {},
   "outputs": [
    {
     "name": "stdout",
     "output_type": "stream",
     "text": [
      "10\tand\n",
      "10\tto\n",
      "8\tthe\n",
      "7\tof\n",
      "4\tin\n"
     ]
    }
   ],
   "source": [
    "cat Dados/some_text.txt | python Codigos/most_common_words.py 5"
   ]
  },
  {
   "cell_type": "markdown",
   "metadata": {},
   "source": [
    "### Lendo Arquivos\n",
    "\n",
    "* É possível ler a partir de e escrever nos arquivos através do código python.\n",
    "\n",
    "#### O básico de arquivos texto\n",
    "\n",
    "* O primeiro passo é obter um objeto de arquivo usando *open*:\n",
    "\n",
    "~~~ Python\n",
    "# 'r' significa somente leitura\n",
    "file_for_reading = open('reading_file.txt', 'r')\n",
    "\n",
    "# 'w' é escrever - - destruirá o arquivo se ele já existir!\n",
    "file_for_writing = open('writing_file.txt', 'w')\n",
    "\n",
    "# 'a' é anexar - - para adicionar ao final do arquivo\n",
    "file_for_appending = open('appending_file.txt', 'a')\n",
    "\n",
    "# não se esqueça de fechar os arquivos ao terminar\n",
    "file_for_writing.close()\n",
    "~~~\n",
    "\n",
    "* O *open* deve ser usado em um bloco *with*, pois fecha automaticamente os arquivos:\n",
    "\n",
    "~~~ Python\n",
    "with open(filename,'r') as f:\n",
    "    data = function_that_gets_data_from(f)\n",
    "    \n",
    "# neste ponto f já foi fechado, não tente usá-lo\n",
    "process(data)\n",
    "~~~\n",
    "\n",
    "* Se você precisar ler o arquivo inteiro, pode-se iterar sobre as linhas do arquivo usando for:\n",
    "\n",
    "~~~ Python\n",
    "starts_with_hash = 0\n",
    "\n",
    "with open('input.txt','r') as f:\n",
    "    for line in file: # observe cada linha do arquivo\n",
    "        if re.match(\"^#\",line): # use um regex para ver se começa com '#'\n",
    "            starts_with_hash += 1 # se começar, adicione 1 à contagem\n",
    "~~~\n",
    "\n",
    "* Toda linha obtida dessa forma termina com um caractere '\\n' (new line), frequentemente iremos removê-lo.\n",
    "\n",
    "#### Arquivos delimitados\n",
    "\n",
    "* Com frequência você trabalhará com arquivos com muitos dados separados por vírgula (comma-separated) ou por tabulação (tab-separated).\n",
    "   * Cada linha possui diversos campos com virgula ou tabulação inidicando o fim de um campo.\n",
    "   \n",
    "   \n",
    "* Se tivéssemos um arquivo de preçoes de ações delimitado por tabulações:"
   ]
  },
  {
   "cell_type": "code",
   "execution_count": 10,
   "metadata": {},
   "outputs": [
    {
     "name": "stdout",
     "output_type": "stream",
     "text": [
      "6/20/2014\tAAPL\t90.91\n",
      "6/20/2014\tMSFT\t41.68\n",
      "6/20/2014\tFB\t64.5\n",
      "6/19/2014\tAAPL\t91.86\n",
      "6/19/2014\tMSFT\t41.51\n",
      "6/19/2014\tFB\t64.34"
     ]
    }
   ],
   "source": [
    "cat Dados/tab_delimited_stock_prices.txt"
   ]
  },
  {
   "cell_type": "markdown",
   "metadata": {},
   "source": [
    "* Podemos processá-los com:"
   ]
  },
  {
   "cell_type": "code",
   "execution_count": 16,
   "metadata": {},
   "outputs": [
    {
     "name": "stdout",
     "output_type": "stream",
     "text": [
      "6/20/2014 AAPL 90.91\n",
      "6/20/2014 MSFT 41.68\n",
      "6/20/2014 FB 64.5\n",
      "6/19/2014 AAPL 91.86\n",
      "6/19/2014 MSFT 41.51\n",
      "6/19/2014 FB 64.34\n"
     ]
    }
   ],
   "source": [
    "import csv\n",
    "\n",
    "with open('Dados/tab_delimited_stock_prices.txt','r') as f:\n",
    "    reader = csv.reader(f, delimiter='\\t')\n",
    "    for row in reader:\n",
    "        date = row[0]\n",
    "        symbol = row[1]\n",
    "        closing_price = float(row[2])\n",
    "        print(date, symbol, closing_price)"
   ]
  },
  {
   "cell_type": "markdown",
   "metadata": {},
   "source": [
    "* Se o arquivo possui cabeçalho você pode pular a linha com reader.next() ou obter cada linha como um dicionário com csv.DictReader()."
   ]
  },
  {
   "cell_type": "code",
   "execution_count": 17,
   "metadata": {},
   "outputs": [
    {
     "name": "stdout",
     "output_type": "stream",
     "text": [
      "date:symbol:closing_price\n",
      "6/20/2014:AAPL:90.91\n",
      "6/20/2014:MSFT:41.68\n",
      "6/20/2014:FB:64.5"
     ]
    }
   ],
   "source": [
    "cat Dados/colon_delimited_stock_prices.txt"
   ]
  },
  {
   "cell_type": "code",
   "execution_count": 19,
   "metadata": {},
   "outputs": [
    {
     "name": "stdout",
     "output_type": "stream",
     "text": [
      "6/20/2014 AAPL 90.91\n",
      "6/20/2014 MSFT 41.68\n",
      "6/20/2014 FB 64.5\n"
     ]
    }
   ],
   "source": [
    "with open('Dados/colon_delimited_stock_prices.txt', 'r') as f:\n",
    "    reader = csv.DictReader(f, delimiter=':')\n",
    "    for row in reader:\n",
    "        date = row[\"date\"]\n",
    "        symbol = row[\"symbol\"]\n",
    "        closing_price = float(row[\"closing_price\"])\n",
    "        print(date, symbol, closing_price)"
   ]
  },
  {
   "cell_type": "markdown",
   "metadata": {},
   "source": [
    "* Se o arquivo não tiver cabeçalhos você ainda pode usar passar a chave a eles como o parâmetro fieldnames.\n",
    "* Você pode escrever os dados delimitados usando csv.writer()"
   ]
  },
  {
   "cell_type": "code",
   "execution_count": 21,
   "metadata": {},
   "outputs": [],
   "source": [
    "today_prices = { 'AAPL' : 90.91, 'MSFT' : 41.68, 'FB' : 64.5 }\n",
    "\n",
    "with open('Dados/comma_delimited_stock_prices.txt','w') as f:\n",
    "    writer = csv.writer(f, delimiter=',')\n",
    "    for stock, price in today_prices.items():\n",
    "        writer.writerow([stock, price])"
   ]
  },
  {
   "cell_type": "code",
   "execution_count": 22,
   "metadata": {},
   "outputs": [
    {
     "name": "stdout",
     "output_type": "stream",
     "text": [
      "AAPL,90.91\n",
      "MSFT,41.68\n",
      "FB,64.5\n"
     ]
    }
   ],
   "source": [
    "cat Dados/comma_delimited_stock_prices.txt"
   ]
  },
  {
   "cell_type": "markdown",
   "metadata": {},
   "source": [
    "* Uma forma errada de fazer isso seria:"
   ]
  },
  {
   "cell_type": "code",
   "execution_count": 25,
   "metadata": {},
   "outputs": [],
   "source": [
    "results = [[\"test1\", \"success\", \"Monday\"],\n",
    "           [\"test2\", \"success, kind of\", \"Tuesday\"],\n",
    "           [\"test3\", \"failure, kind of\", \"Wednesday\"],\n",
    "           [\"test4\", \"failure, utter\", \"Thursday\"]]\n",
    "\n",
    "# não faça isso!\n",
    "with open('Dados/bad_csv.txt', 'w') as f:\n",
    "    for row in results:\n",
    "        f.write(\",\".join(map(str, row))) # talvez tenha muitas vírgulas nele!\n",
    "        f.write(\"\\n\") # a linha pode ter newlines também!"
   ]
  },
  {
   "cell_type": "code",
   "execution_count": 26,
   "metadata": {},
   "outputs": [
    {
     "name": "stdout",
     "output_type": "stream",
     "text": [
      "test1,success,Monday\n",
      "test2,success, kind of,Tuesday\n",
      "test3,failure, kind of,Wednesday\n",
      "test4,failure, utter,Thursday\n"
     ]
    }
   ],
   "source": [
    "cat Dados/bad_csv.txt"
   ]
  },
  {
   "cell_type": "markdown",
   "metadata": {},
   "source": [
    "### Extraindo Dados da Internet\n",
    "\n",
    "* Outra maneira de obter dados é extraindo de páginas web.\n",
    "* Não é uma tarefa tão simples.\n",
    "\n",
    "#### HTML e sua subsequente pesquisa\n",
    "\n",
    "* HTML não é bem formulado, muito menos comentado. Necessitamos de ajuda para entender tudo isso.\n",
    "* Para extrair esses dados utilizamos a biblioteca BeautifulSoup.\n",
    "  * Constrói uma ávore a partir de elementos da página.\n",
    "  * Fornece interface simples para acessá-los.\n",
    "  \n",
    "  \n",
    "* Usaremos a biblioteca requests para a comunicação com o HTTP.\n",
    "* E utilizaremos a biblioteca html5lib como interpretador HTML.\n",
    "* Abaixo, um exemplo de uso das bibliotecas citadas, após isso, serão usados alguns métodos simples."
   ]
  },
  {
   "cell_type": "code",
   "execution_count": 28,
   "metadata": {},
   "outputs": [],
   "source": [
    "from bs4 import BeautifulSoup\n",
    "import requests\n",
    "\n",
    "html = requests.get(\"http://www.example.com\").text\n",
    "soup = BeautifulSoup(html, 'html5lib')"
   ]
  },
  {
   "cell_type": "code",
   "execution_count": 35,
   "metadata": {},
   "outputs": [
    {
     "data": {
      "text/plain": [
       "<!DOCTYPE html>\n",
       "<html><head>\n",
       "    <title>Example Domain</title>\n",
       "\n",
       "    <meta charset=\"utf-8\"/>\n",
       "    <meta content=\"text/html; charset=utf-8\" http-equiv=\"Content-type\"/>\n",
       "    <meta content=\"width=device-width, initial-scale=1\" name=\"viewport\"/>\n",
       "    <style type=\"text/css\">\n",
       "    body {\n",
       "        background-color: #f0f0f2;\n",
       "        margin: 0;\n",
       "        padding: 0;\n",
       "        font-family: -apple-system, system-ui, BlinkMacSystemFont, \"Segoe UI\", \"Open Sans\", \"Helvetica Neue\", Helvetica, Arial, sans-serif;\n",
       "        \n",
       "    }\n",
       "    div {\n",
       "        width: 600px;\n",
       "        margin: 5em auto;\n",
       "        padding: 2em;\n",
       "        background-color: #fdfdff;\n",
       "        border-radius: 0.5em;\n",
       "        box-shadow: 2px 3px 7px 2px rgba(0,0,0,0.02);\n",
       "    }\n",
       "    a:link, a:visited {\n",
       "        color: #38488f;\n",
       "        text-decoration: none;\n",
       "    }\n",
       "    @media (max-width: 700px) {\n",
       "        div {\n",
       "            margin: 0 auto;\n",
       "            width: auto;\n",
       "        }\n",
       "    }\n",
       "    </style>    \n",
       "</head>\n",
       "\n",
       "<body>\n",
       "<div>\n",
       "    <h1>Example Domain</h1>\n",
       "    <p>This domain is for use in illustrative examples in documents. You may use this\n",
       "    domain in literature without prior coordination or asking for permission.</p>\n",
       "    <p><a href=\"https://www.iana.org/domains/example\">More information...</a></p>\n",
       "</div>\n",
       "\n",
       "\n",
       "</body></html>"
      ]
     },
     "execution_count": 35,
     "metadata": {},
     "output_type": "execute_result"
    }
   ],
   "source": [
    "soup"
   ]
  },
  {
   "cell_type": "markdown",
   "metadata": {},
   "source": [
    "* Depois, serão trabalhados utilizando as tags de marcações do HTML.\n",
    "* Veja o exemplo abaixo que pega elementos da tag p:"
   ]
  },
  {
   "cell_type": "code",
   "execution_count": 36,
   "metadata": {},
   "outputs": [],
   "source": [
    "first_paragraph = soup.find('p')\n",
    "# ou\n",
    "first_paragraph_alt = soup.p"
   ]
  },
  {
   "cell_type": "code",
   "execution_count": 37,
   "metadata": {},
   "outputs": [
    {
     "name": "stdout",
     "output_type": "stream",
     "text": [
      "<p>This domain is for use in illustrative examples in documents. You may use this\n",
      "    domain in literature without prior coordination or asking for permission.</p>\n",
      "\n",
      "<p>This domain is for use in illustrative examples in documents. You may use this\n",
      "    domain in literature without prior coordination or asking for permission.</p>\n"
     ]
    }
   ],
   "source": [
    "print(first_paragraph)\n",
    "print()\n",
    "print(first_paragraph_alt)"
   ]
  },
  {
   "cell_type": "markdown",
   "metadata": {},
   "source": [
    "* É possível obter o conteúdo da tag usando a propriedade text:"
   ]
  },
  {
   "cell_type": "code",
   "execution_count": 32,
   "metadata": {},
   "outputs": [],
   "source": [
    "first_paragraph_text = soup.p.text\n",
    "first_paragraph_words = soup.p.text.split()"
   ]
  },
  {
   "cell_type": "code",
   "execution_count": 34,
   "metadata": {},
   "outputs": [
    {
     "name": "stdout",
     "output_type": "stream",
     "text": [
      "This domain is for use in illustrative examples in documents. You may use this\n",
      "    domain in literature without prior coordination or asking for permission.\n",
      "\n",
      "['This', 'domain', 'is', 'for', 'use', 'in', 'illustrative', 'examples', 'in', 'documents.', 'You', 'may', 'use', 'this', 'domain', 'in', 'literature', 'without', 'prior', 'coordination', 'or', 'asking', 'for', 'permission.']\n"
     ]
    }
   ],
   "source": [
    "print(first_paragraph_text)\n",
    "print()\n",
    "print(first_paragraph_words)"
   ]
  },
  {
   "cell_type": "markdown",
   "metadata": {},
   "source": [
    "* Podemos extrair os atributos de uma marcação tratando como um dict: "
   ]
  },
  {
   "cell_type": "code",
   "execution_count": 38,
   "metadata": {},
   "outputs": [
    {
     "ename": "KeyError",
     "evalue": "'id'",
     "output_type": "error",
     "traceback": [
      "\u001b[0;31m---------------------------------------------------------------------------\u001b[0m",
      "\u001b[0;31mKeyError\u001b[0m                                  Traceback (most recent call last)",
      "\u001b[0;32m<ipython-input-38-0f7942d3b124>\u001b[0m in \u001b[0;36m<module>\u001b[0;34m\u001b[0m\n\u001b[0;32m----> 1\u001b[0;31m \u001b[0mfirst_paragraph_id\u001b[0m \u001b[0;34m=\u001b[0m \u001b[0msoup\u001b[0m\u001b[0;34m.\u001b[0m\u001b[0mp\u001b[0m\u001b[0;34m[\u001b[0m\u001b[0;34m'id'\u001b[0m\u001b[0;34m]\u001b[0m \u001b[0;31m# retorna um KeyError se não tiver 'id'\u001b[0m\u001b[0;34m\u001b[0m\u001b[0;34m\u001b[0m\u001b[0m\n\u001b[0m\u001b[1;32m      2\u001b[0m \u001b[0;31m# ou\u001b[0m\u001b[0;34m\u001b[0m\u001b[0;34m\u001b[0m\u001b[0;34m\u001b[0m\u001b[0m\n\u001b[1;32m      3\u001b[0m \u001b[0mfirst_paragraph_id2\u001b[0m \u001b[0;34m=\u001b[0m \u001b[0msoup\u001b[0m\u001b[0;34m.\u001b[0m\u001b[0mp\u001b[0m\u001b[0;34m.\u001b[0m\u001b[0mget\u001b[0m\u001b[0;34m(\u001b[0m\u001b[0;34m'id'\u001b[0m\u001b[0;34m)\u001b[0m \u001b[0;31m# retorna None se não tiver 'id'\u001b[0m\u001b[0;34m\u001b[0m\u001b[0;34m\u001b[0m\u001b[0m\n",
      "\u001b[0;32m~/anaconda3/lib/python3.7/site-packages/bs4/element.py\u001b[0m in \u001b[0;36m__getitem__\u001b[0;34m(self, key)\u001b[0m\n\u001b[1;32m   1069\u001b[0m         \"\"\"tag[key] returns the value of the 'key' attribute for the tag,\n\u001b[1;32m   1070\u001b[0m         and throws an exception if it's not there.\"\"\"\n\u001b[0;32m-> 1071\u001b[0;31m         \u001b[0;32mreturn\u001b[0m \u001b[0mself\u001b[0m\u001b[0;34m.\u001b[0m\u001b[0mattrs\u001b[0m\u001b[0;34m[\u001b[0m\u001b[0mkey\u001b[0m\u001b[0;34m]\u001b[0m\u001b[0;34m\u001b[0m\u001b[0;34m\u001b[0m\u001b[0m\n\u001b[0m\u001b[1;32m   1072\u001b[0m \u001b[0;34m\u001b[0m\u001b[0m\n\u001b[1;32m   1073\u001b[0m     \u001b[0;32mdef\u001b[0m \u001b[0m__iter__\u001b[0m\u001b[0;34m(\u001b[0m\u001b[0mself\u001b[0m\u001b[0;34m)\u001b[0m\u001b[0;34m:\u001b[0m\u001b[0;34m\u001b[0m\u001b[0;34m\u001b[0m\u001b[0m\n",
      "\u001b[0;31mKeyError\u001b[0m: 'id'"
     ]
    }
   ],
   "source": [
    "first_paragraph_id = soup.p['id'] # retorna um KeyError se não tiver 'id'"
   ]
  },
  {
   "cell_type": "code",
   "execution_count": 40,
   "metadata": {},
   "outputs": [
    {
     "name": "stdout",
     "output_type": "stream",
     "text": [
      "None\n"
     ]
    }
   ],
   "source": [
    "first_paragraph_id2 = soup.p.get('id') # retorna None se não tiver 'id'\n",
    "print(first_paragraph_id2)"
   ]
  },
  {
   "cell_type": "markdown",
   "metadata": {},
   "source": [
    "* Pode-se obter múltiplas marcações ao mesmo tempo:"
   ]
  },
  {
   "cell_type": "code",
   "execution_count": 41,
   "metadata": {},
   "outputs": [],
   "source": [
    "all_paragraphs = soup.find_all('p') # ou apenas soup('p')\n",
    "paragraphs_with_ids = [p for p in soup('p') if p.get('id')]"
   ]
  },
  {
   "cell_type": "markdown",
   "metadata": {},
   "source": [
    "* Também podemos encontrar marcações com uma *class* específica:"
   ]
  },
  {
   "cell_type": "code",
   "execution_count": 42,
   "metadata": {},
   "outputs": [],
   "source": [
    "important_paragraphs = soup('p', {'class' : 'important'})\n",
    "important_paragraphs2 = soup('p', 'important')\n",
    "important_paragraphs3 = [p for p in soup('p')\n",
    "                         if 'important' in p.get('class', [])]"
   ]
  },
  {
   "cell_type": "markdown",
   "metadata": {},
   "source": [
    "* Essas funcionalidades nos possibilitarão fazer algumas coisas.\n",
    "* Para aplicações mais complicadas, consulte a documentação.\n",
    "\n",
    "### Usando APIs\n",
    "\n",
    "* Muitos websites e serviços web fornecem APIs que permitem a solicitação de dados estruturados.\n",
    "\n",
    "#### JSON (e XML)\n",
    "\n",
    "* O HTTP é um protocolo que permite a transferência de texto.\n",
    "* Os dados que você solicita por uma API devem ser serializados por meio de strings.\n",
    "* Geralmente essa serialização é feita através de JSON.\n",
    "* Pela sua estrutura parecer muito com dicts python, facilita a interpretação das strings:"
   ]
  },
  {
   "cell_type": "code",
   "execution_count": 43,
   "metadata": {},
   "outputs": [
    {
     "data": {
      "text/plain": [
       "{'title': 'Data Science Book',\n",
       " 'author': 'Joel Grus',\n",
       " 'publicationYear': 2014,\n",
       " 'topics': ['data', 'science', 'data science']}"
      ]
     },
     "execution_count": 43,
     "metadata": {},
     "output_type": "execute_result"
    }
   ],
   "source": [
    "{\"title\" : \"Data Science Book\",\n",
    " \"author\" : \"Joel Grus\",\n",
    " \"publicationYear\" : 2014,\n",
    " \"topics\" : [ \"data\", \"science\", \"data science\"]}"
   ]
  },
  {
   "cell_type": "markdown",
   "metadata": {},
   "source": [
    "* Podemos analisar JSON utilizando o módulo json do Python.\n",
    "* Usaremos a função loads para desserializar um objeto JSON:"
   ]
  },
  {
   "cell_type": "code",
   "execution_count": 44,
   "metadata": {},
   "outputs": [
    {
     "name": "stdout",
     "output_type": "stream",
     "text": [
      "{'title': 'Data Science Book', 'author': 'Joel Grus', 'publicationYear': 2014, 'topics': ['data', 'science', 'data science']}\n"
     ]
    }
   ],
   "source": [
    "import json\n",
    "serialized = \"\"\"{ \"title\" : \"Data Science Book\", \"author\" : \"Joel Grus\", \"publicationYear\" : 2014,\n",
    "\"topics\" : [ \"data\", \"science\", \"data science\"] }\"\"\"\n",
    "\n",
    "# analisa o json para criar um dict do Python\n",
    "deserialized = json.loads(serialized)\n",
    "if \"data science\" in deserialized[\"topics\"]:\n",
    "    print (deserialized)"
   ]
  },
  {
   "cell_type": "markdown",
   "metadata": {},
   "source": [
    "* As vezes a API fornece apenas respostas em XML. \n",
    "* Para tal pode-se usar o módulo BeautifulSoup para obter os dados.\n",
    "\n",
    "#### Usando uma API não autenticada\n",
    "\n",
    "* A maioria das APIs requerem uma autenticação de quem deseja usar. \n",
    "* Daremos uma olhada na API do github para praticar acessos não autenticados:"
   ]
  },
  {
   "cell_type": "code",
   "execution_count": 46,
   "metadata": {},
   "outputs": [],
   "source": [
    "import requests, json\n",
    "endpoint = \"https://api.github.com/users/acucenarodrigues1998/repos\"\n",
    "repos = json.loads(requests.get(endpoint).text)"
   ]
  },
  {
   "cell_type": "markdown",
   "metadata": {},
   "source": [
    "* repos é uma list de dicts do Python, cada uma representando um repositorio público no meu github.\n",
    "* Com esses dados, é possível descobrir em quais meses e dias eu possuo mais tendência a criar repositórios.\n",
    "* As datas na resposta são strings.\n",
    "* Usaremos o módulo dateutil para analisar as datas.\n",
    "* Usaremos a função dateutil.parser.parse."
   ]
  },
  {
   "cell_type": "code",
   "execution_count": 51,
   "metadata": {},
   "outputs": [
    {
     "name": "stdout",
     "output_type": "stream",
     "text": [
      "Meses com mais repositórios criados:\n",
      "Counter({12: 1, 10: 1, 8: 1, 9: 1, 2: 1, 11: 1})\n",
      "Dias com mais repositórios criados:\n",
      "Counter({0: 2, 2: 1, 1: 1, 3: 1, 4: 1})\n"
     ]
    }
   ],
   "source": [
    "from dateutil.parser import parse\n",
    "\n",
    "dates = [parse(repo[\"created_at\"]) for repo in repos]\n",
    "month_counts = Counter(date.month for date in dates)\n",
    "weekday_counts = Counter(date.weekday() for date in dates)\n",
    "\n",
    "print(\"Meses com mais repositórios criados:\")\n",
    "print(month_counts)\n",
    "print(\"Dias com mais repositórios criados:\")\n",
    "print(weekday_counts)"
   ]
  },
  {
   "cell_type": "markdown",
   "metadata": {},
   "source": [
    "* Podemos pegar as linguagens dos 5 últimos repos criados:"
   ]
  },
  {
   "cell_type": "code",
   "execution_count": 53,
   "metadata": {},
   "outputs": [
    {
     "name": "stdout",
     "output_type": "stream",
     "text": [
      "['Jupyter Notebook', 'Python', 'Java', 'Jupyter Notebook', 'PHP']\n"
     ]
    }
   ],
   "source": [
    "last_5_repositories = sorted(repos, key=lambda r: r[\"created_at\"], reverse=True)[:5]\n",
    "last_5_languages = [repo[\"language\"] for repo in last_5_repositories]\n",
    "print(last_5_languages)"
   ]
  },
  {
   "cell_type": "markdown",
   "metadata": {},
   "source": [
    "* Existem bibliotecas que omitem o baixo nível do acesso a APIs, como feito acima. Elas podem poupar muito trabalho."
   ]
  }
 ],
 "metadata": {
  "kernelspec": {
   "display_name": "Python 3",
   "language": "python",
   "name": "python3"
  },
  "language_info": {
   "codemirror_mode": {
    "name": "ipython",
    "version": 3
   },
   "file_extension": ".py",
   "mimetype": "text/x-python",
   "name": "python",
   "nbconvert_exporter": "python",
   "pygments_lexer": "ipython3",
   "version": "3.7.4"
  }
 },
 "nbformat": 4,
 "nbformat_minor": 2
}
